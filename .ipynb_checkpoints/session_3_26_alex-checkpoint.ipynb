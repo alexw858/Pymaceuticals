{
 "cells": [
  {
   "cell_type": "code",
   "execution_count": 1,
   "metadata": {
    "collapsed": true
   },
   "outputs": [],
   "source": [
    "# import dependencies\n",
    "import numpy as np\n",
    "import pandas as pd\n",
    "import matplotlib.pyplot as plt\n",
    "% matplotlib inline\n"
   ]
  },
  {
   "cell_type": "code",
   "execution_count": null,
   "metadata": {
    "collapsed": true
   },
   "outputs": [],
   "source": [
    "mouse_path = \"raw_data/mouse_drug_data.csv\"\n",
    "clinical_path = \"raw_data/mouse_drug_data.csv\"\n",
    "\n",
    "mouse_drug_df = pd.read_csv(mouse_path)\n",
    "clinical_df = pd.read_csv(clinical_path)"
   ]
  },
  {
   "cell_type": "code",
   "execution_count": null,
   "metadata": {
    "collapsed": true
   },
   "outputs": [],
   "source": [
    "# barplot\n",
    "# calculate for percent change (mean and sem)\n",
    "\n",
    "tumor_per_change = (tumor_volume_mean[-1] - tumor_volume_mean[0])/tumor_volume_mean[0] * 100\n",
    "tumor_per_change_sem = (tumor_volume_sem[-1] - tumor_volume_sem[0])/tumor_volume_sem[0] * 100"
   ]
  },
  {
   "cell_type": "code",
   "execution_count": null,
   "metadata": {
    "collapsed": true
   },
   "outputs": [],
   "source": [
    "# extract percent calculations\n",
    "percent_change = [tumor_per_change[\"Capomulin\"], \n",
    "                  tumor_per_change[\"Infubinol\"], \n",
    "                  tumor_per_change[\"Ketapril\"], \n",
    "                  tumor_per_change[\"Placebo\"]]\n",
    "\n",
    "# settings for barplots\n",
    "fig, ax = plt.subplots()\n",
    "ind = np.arange(len(percent_change))\n",
    "width = 1\n",
    "rect_pass = ax.bar(ind[0], percent_change[0], width, color=\"green\")\n",
    "rect_fail = ax.bar(ind[1:], percent_change[1:], width, color=\"red\")\n",
    "\n",
    "# x and y labels\n",
    "ax.set_ylabel(\"% tumor change\")\n",
    "ax.set_title(\"Tumor change over 45 day treatment\")\n",
    "ax.set_xticks(ind)\n",
    "ax.set_xticklabels((\"Capomulin\", \"Infubinol\", \"Ketapril\", \"Placebo\"))\n",
    "ax.set_autoscaley_on(False)\n",
    "ax.set_ylim([-30, 70])\n",
    "ax.grid(True)\n",
    "\n",
    "# use functions to insert labels inside bars\n",
    "def autolabelPass(rects):\n",
    "    for rect in rects:\n",
    "        height = rect.get_height()\n",
    "        ax.text(rect.get_x() + rect.get_width()/2, -8, \n",
    "                '-%d%%' % int(height), ha='center', \n",
    "                va=\"bottom\", color=\"white\")\n",
    "\n",
    "def autolabelFail(rects):\n",
    "    for rect in rects:\n",
    "        height = rect.get_height()\n",
    "        ax.text(rect.get_x() + rect.get_width()/2, 3, \n",
    "                '-%d%%' % int(height), ha='center', \n",
    "                va=\"bottom\", color=\"white\")\n",
    "        \n",
    "autolabelPass(rect_pass)\n",
    "autolabelFail(rect_fail)"
   ]
  },
  {
   "cell_type": "code",
   "execution_count": null,
   "metadata": {
    "collapsed": true
   },
   "outputs": [],
   "source": [
    "my_dict\n",
    "my_list"
   ]
  },
  {
   "cell_type": "code",
   "execution_count": 29,
   "metadata": {
    "collapsed": true
   },
   "outputs": [],
   "source": [
    "def my_sum(a=5, b=10):\n",
    "    return a + b"
   ]
  },
  {
   "cell_type": "code",
   "execution_count": 32,
   "metadata": {},
   "outputs": [
    {
     "data": {
      "text/plain": [
       "250"
      ]
     },
     "execution_count": 32,
     "metadata": {},
     "output_type": "execute_result"
    }
   ],
   "source": [
    "my_sum(b=50, a=200)"
   ]
  },
  {
   "cell_type": "code",
   "execution_count": null,
   "metadata": {
    "collapsed": true
   },
   "outputs": [],
   "source": []
  },
  {
   "cell_type": "code",
   "execution_count": null,
   "metadata": {
    "collapsed": true
   },
   "outputs": [],
   "source": []
  },
  {
   "cell_type": "code",
   "execution_count": null,
   "metadata": {
    "collapsed": true
   },
   "outputs": [],
   "source": []
  },
  {
   "cell_type": "code",
   "execution_count": null,
   "metadata": {
    "collapsed": true
   },
   "outputs": [],
   "source": []
  }
 ],
 "metadata": {
  "kernelspec": {
   "display_name": "Python 3",
   "language": "python",
   "name": "python3"
  },
  "language_info": {
   "codemirror_mode": {
    "name": "ipython",
    "version": 3
   },
   "file_extension": ".py",
   "mimetype": "text/x-python",
   "name": "python",
   "nbconvert_exporter": "python",
   "pygments_lexer": "ipython3",
   "version": "3.6.1"
  }
 },
 "nbformat": 4,
 "nbformat_minor": 2
}
